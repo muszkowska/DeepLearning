{
  "cells": [
    {
      "cell_type": "code",
      "execution_count": 20,
      "metadata": {
        "id": "mbRwKgS6ijBW"
      },
      "outputs": [],
      "source": [
        "import torch\n",
        "import torchvision\n",
        "import torchvision.transforms as transforms\n",
        "from torch.utils.data import DataLoader\n",
        "import ssl\n",
        "import matplotlib.pyplot as plt\n",
        "import numpy as np\n",
        "import seaborn as sns\n",
        "from torch import nn\n",
        "import torch.nn.functional as F\n",
        "import torch.optim as optim\n",
        "import sys\n",
        "sys.path.append('../')\n",
        "from fun.models import *\n",
        "sns.set_style(\"whitegrid\")\n",
        "from torch.utils.data import random_split\n",
        "from tqdm import tqdm\n",
        "import pandas as pd\n",
        "torch.manual_seed(42)\n",
        "np.random.seed(42)\n",
        "import random\n",
        "random.seed(42)\n"
      ]
    },
    {
      "cell_type": "code",
      "execution_count": 21,
      "metadata": {
        "colab": {
          "base_uri": "https://localhost:8080/"
        },
        "id": "Py8ObXhQijBa",
        "outputId": "0bc605bd-4802-481d-e75d-c9c642d09bca"
      },
      "outputs": [
        {
          "name": "stdout",
          "output_type": "stream",
          "text": [
            "Files already downloaded and verified\n",
            "Files already downloaded and verified\n"
          ]
        }
      ],
      "source": [
        "\n",
        "transform_test = transforms.Compose([\n",
        "    transforms.Resize((224, 224)),\n",
        "    transforms.ToTensor()\n",
        "])\n",
        "\n",
        "transform_train = transforms.Compose([\n",
        "\n",
        "    transforms.Resize((34, 34)), \n",
        "    transforms.RandomCrop(32),\n",
        "    transforms.RandomRotation(degrees=30),\n",
        "    transforms.RandomHorizontalFlip(0.4),\n",
        "    transforms.Resize((224, 224)), \n",
        "    transforms.ToTensor()\n",
        "    ])\n",
        "\n",
        "\n",
        "train_ds = torchvision.datasets.CIFAR10(\n",
        "    root=\"../data\",\n",
        "    train=True,\n",
        "    download=True,\n",
        "    transform=transform_train\n",
        ")\n",
        "\n",
        "test_ds = torchvision.datasets.CIFAR10(\n",
        "    root=\"../data\",\n",
        "    train=False,\n",
        "    download=True,\n",
        "    transform=transform_test\n",
        ")\n",
        "\n",
        "\n",
        "    "
      ]
    },
    {
      "cell_type": "code",
      "execution_count": 24,
      "metadata": {
        "id": "ZVHZNia3ijBb"
      },
      "outputs": [
        {
          "name": "stdout",
          "output_type": "stream",
          "text": [
            "Using cuda device\n"
          ]
        }
      ],
      "source": [
        "device = \"cuda\" if torch.cuda.is_available() else \"cpu\"\n",
        "print(f\"Using {device} device\")\n",
        "\n",
        "def train(dataloader, model, loss_fn, optimizer):\n",
        "\n",
        "    size = len(dataloader.dataset)\n",
        "    num_batches = len(dataloader)\n",
        "    model.train()\n",
        "    train_loss, correct = 0, 0\n",
        "    for batch, (X, y) in enumerate(dataloader):\n",
        "        X, y = X.to(device), y.to(device)\n",
        "\n",
        "        pred = model(X)\n",
        "        loss = loss_fn(pred, y)\n",
        "\n",
        "        optimizer.zero_grad()\n",
        "        loss.backward()\n",
        "        optimizer.step()\n",
        "\n",
        "        if batch % 100 == 0:\n",
        "            print(batch)\n",
        "\n",
        "        train_loss += loss.item()\n",
        "        correct += (pred.argmax(1) == y).type(torch.float).sum().item()\n",
        "\n",
        "\n",
        "    train_loss /= num_batches\n",
        "    correct /= size\n",
        "    print(f\" Train Accuracy: {(100*correct):>0.1f}%, Train Avg loss {train_loss:>8f} \\n\")\n",
        "    return correct, train_loss\n",
        "\n",
        "\n",
        "def test(dataloader, model, loss_fn):\n",
        "    size = len(dataloader.dataset)\n",
        "    num_batches = len(dataloader)\n",
        "    model.eval()\n",
        "    test_loss, correct = 0, 0\n",
        "    with torch.no_grad():\n",
        "        for X, y in dataloader:\n",
        "            X, y = X.to(device), y.to(device)\n",
        "            pred = model(X)\n",
        "            test_loss += loss_fn(pred, y).item()\n",
        "            correct += (pred.argmax(1) == y).type(torch.float).sum().item()\n",
        "    test_loss /= num_batches\n",
        "    correct /= size\n",
        "\n",
        "    print(f\"Test Accuracy: {(100*correct):>0.1f}%, Test Avg loss: {test_loss:>8f} \\n\")\n",
        "    return correct, test_loss\n",
        "    "
      ]
    },
    {
      "cell_type": "code",
      "execution_count": 25,
      "metadata": {
        "id": "02bDsBVtijBc"
      },
      "outputs": [],
      "source": [
        "from torchvision import models\n",
        "class Resnet18_1(nn.Module):\n",
        "    def __init__(self):\n",
        "        super().__init__()\n",
        "        resnet18_pre = models.resnet18(pretrained=True)\n",
        "        self.conv_layers = nn.ModuleList()\n",
        "        for child in resnet18_pre.named_children():\n",
        "            if child[0] == \"fc\":\n",
        "                break\n",
        "            self.conv_layers.append(child[1])\n",
        "\n",
        "        self.fc1 = nn.Linear(resnet18_pre.fc.in_features, 120)\n",
        "        self.fc2 = nn.Linear(120, 10)\n",
        "\n",
        "    def forward(self, x):\n",
        "\n",
        "        for layer in self.conv_layers:\n",
        "            x = layer(x)\n",
        "\n",
        "        x = torch.flatten(x, 1)\n",
        "        x = self.fc1(x)\n",
        "        x = self.fc2(x)\n",
        "\n",
        "        return x"
      ]
    },
    {
      "cell_type": "code",
      "execution_count": null,
      "metadata": {
        "id": "ZgwtdzELijBf"
      },
      "outputs": [],
      "source": [
        "from google.colab import drive\n",
        "drive.mount('drive')"
      ]
    },
    {
      "cell_type": "code",
      "execution_count": null,
      "metadata": {
        "id": "5wrZTlKJijBh"
      },
      "outputs": [],
      "source": [
        "\n",
        "batch_size = 1024\n",
        "epochs = 50\n",
        "learning_rate = 1e-3\n",
        "\n",
        "\n",
        "data = np.array([[0]*4]*epochs)\n",
        "net_SGD_augm_history = pd.DataFrame(data, columns = [\"test_acc\", \"train_acc\", \"test_loss\", \"train_loss\"])\n",
        "\n",
        "\n",
        "\n",
        "train_dataloader = DataLoader(\n",
        "    train_ds,\n",
        "    batch_size=batch_size, \n",
        "    shuffle=True\n",
        "    )\n",
        "test_dataloader = DataLoader(\n",
        "    test_ds, \n",
        "    batch_size=batch_size,\n",
        "    shuffle=False\n",
        "    )\n",
        "\n",
        "  #Freeze all layers\n",
        "net = Resnet18_1().to(device)\n",
        "for param in net.conv_layers.parameters():    \n",
        "      param.requires_grad = False\n",
        "\n",
        "\n",
        "criterion = nn.CrossEntropyLoss()\n",
        "optimizer = torch.optim.Adam(net.parameters(), lr=learning_rate)\n",
        "\n",
        "for t in range(epochs):\n",
        "    \n",
        "    print(f\"Epoch {t+1}\\n-------------------------------\")\n",
        "\n",
        "    train_acc, train_loss = train(train_dataloader, net, criterion, optimizer)\n",
        "    test_acc, test_loss = test(test_dataloader, net, criterion)\n",
        "\n",
        "    net_SGD_augm_history.loc[t,\"train_acc\"] = train_acc        \n",
        "    net_SGD_augm_history.loc[t,\"test_acc\"] = test_acc\n",
        "    net_SGD_augm_history.loc[t,\"train_loss\"] = train_loss\n",
        "    net_SGD_augm_history.loc[t,\"test_loss\"] = test_loss       \n",
        "\n",
        "\n",
        "# resnet1_adam_augm_history.to_csv(\"resnet1_adam_augm_history.csv\")\n",
        "# !cp resnet1_adam_augm_history.csv \"drive/My Drive/DL/augm_add_img_resnet18_1_bs1024_adam/\"\n",
        " \n",
        "    "
      ]
    },
    {
      "cell_type": "code",
      "execution_count": null,
      "metadata": {
        "id": "3XvfjIGXijBi"
      },
      "outputs": [],
      "source": []
    },
    {
      "cell_type": "code",
      "execution_count": null,
      "metadata": {
        "id": "UxLRESkoijBj"
      },
      "outputs": [],
      "source": []
    },
    {
      "cell_type": "code",
      "execution_count": null,
      "metadata": {
        "id": "KPOTTO0kijBk"
      },
      "outputs": [],
      "source": [
        "torch.save(net.state_dict(), '../models/resnet18_1.pth')"
      ]
    },
    {
      "cell_type": "code",
      "execution_count": null,
      "metadata": {
        "id": "BWkZbMInijBk"
      },
      "outputs": [],
      "source": []
    }
  ],
  "metadata": {
    "accelerator": "GPU",
    "colab": {
      "collapsed_sections": [],
      "name": "resnet18_1.ipynb",
      "provenance": []
    },
    "interpreter": {
      "hash": "e7c9f80f3618f45ecfef668bfa3a583f5bb597334d77308f2cc3491cc6d9e9d8"
    },
    "kernelspec": {
      "display_name": "Python 3.9.7 ('base')",
      "language": "python",
      "name": "python3"
    },
    "language_info": {
      "codemirror_mode": {
        "name": "ipython",
        "version": 3
      },
      "file_extension": ".py",
      "mimetype": "text/x-python",
      "name": "python",
      "nbconvert_exporter": "python",
      "pygments_lexer": "ipython3",
      "version": "3.9.7"
    },
    "orig_nbformat": 4
  },
  "nbformat": 4,
  "nbformat_minor": 0
}
